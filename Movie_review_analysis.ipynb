{
  "nbformat": 4,
  "nbformat_minor": 0,
  "metadata": {
    "colab": {
      "provenance": [],
      "authorship_tag": "ABX9TyMep1jHYhn33ssVfxdk9R8D",
      "include_colab_link": true
    },
    "kernelspec": {
      "name": "python3",
      "display_name": "Python 3"
    },
    "language_info": {
      "name": "python"
    }
  },
  "cells": [
    {
      "cell_type": "markdown",
      "metadata": {
        "id": "view-in-github",
        "colab_type": "text"
      },
      "source": [
        "<a href=\"https://colab.research.google.com/github/LazyLoser/ML-LABIO/blob/main/Movie_review_analysis.ipynb\" target=\"_parent\"><img src=\"https://colab.research.google.com/assets/colab-badge.svg\" alt=\"Open In Colab\"/></a>"
      ]
    },
    {
      "cell_type": "code",
      "source": [
        "import os\n",
        "import random\n",
        "\n",
        "def load_training_data(\n",
        "    data_directory: str = \"aclImdb/train\",\n",
        "    split: float = 0.8,\n",
        "    limit: int = 0\n",
        ") -> tuple:\n",
        "    # Load from files\n",
        "    reviews = []\n",
        "    for label in [\"pos\", \"neg\"]:\n",
        "        labeled_directory = f\"{data_directory}/{label}\"\n",
        "        for review in os.listdir(labeled_directory):\n",
        "            if review.endswith(\".txt\"):\n",
        "                with open(f\"{labeled_directory}/{review}\") as f:\n",
        "                    text = f.read()\n",
        "                    text = text.replace(\"<br />\", \"\\n\\n\")\n",
        "                    if text.strip():\n",
        "                        spacy_label = {\n",
        "                            \"cats\": {\n",
        "                                \"pos\": \"pos\" == label,\n",
        "                                \"neg\": \"neg\" == label}\n",
        "                        }\n",
        "                        reviews.append((text, spacy_label))\n",
        "    random.shuffle(reviews)\n",
        "\n",
        "    if limit:\n",
        "        reviews = reviews[:limit]\n",
        "    split = int(len(reviews) * split)\n",
        "    return reviews[:split], reviews[split:]"
      ],
      "metadata": {
        "id": "OrLweO_MJPRT"
      },
      "execution_count": 7,
      "outputs": []
    },
    {
      "cell_type": "code",
      "source": [
        "import spacy\n",
        "from spacy.util import minibatch, compounding\n",
        "\n",
        "def train_model(\n",
        "    training_data: list,\n",
        "    test_data: list,\n",
        "    iterations: int = 20\n",
        ") -> None:\n",
        "    # Build pipeline\n",
        "    nlp = spacy.load(\"en_core_web_sm\")\n",
        "    if \"textcat\" not in nlp.pipe_names:\n",
        "        textcat = nlp.create_pipe(\n",
        "            \"textcat\", config={\"architecture\": \"simple_cnn\"}\n",
        "        )\n",
        "        nlp.add_pipe(textcat, last=True)\n",
        "    else:\n",
        "        textcat = nlp.get_pipe(\"textcat\")\n",
        "\n",
        "    textcat.add_label(\"pos\")\n",
        "    textcat.add_label(\"neg\")\n",
        "\n",
        "    # Train only textcat\n",
        "    training_excluded_pipes = [\n",
        "        pipe for pipe in nlp.pipe_names if pipe != \"textcat\"\n",
        "    ]\n",
        "    with nlp.disable_pipes(training_excluded_pipes):\n",
        "        optimizer = nlp.begin_training()\n",
        "        # Training loop\n",
        "        print(\"Beginning training\")\n",
        "        batch_sizes = compounding(\n",
        "            4.0, 32.0, 1.001\n",
        "        )  # A generator that yields infinite series of input numbers\n",
        "        for i in range(iterations):\n",
        "            loss = {}\n",
        "            random.shuffle(training_data)\n",
        "            batches = minibatch(training_data, size=batch_sizes)\n",
        "            for batch in batches:\n",
        "                text, labels = zip(*batch)\n",
        "                nlp.update(\n",
        "                    text,\n",
        "                    labels,\n",
        "                    drop=0.2,\n",
        "                    sgd=optimizer,\n",
        "                    losses=loss\n",
        "                )"
      ],
      "metadata": {
        "id": "qYTxl0jtJ4lk"
      },
      "execution_count": 8,
      "outputs": []
    },
    {
      "cell_type": "code",
      "source": [
        "def evaluate_model(\n",
        "    tokenizer, textcat, test_data: list\n",
        ") -> dict:\n",
        "    reviews, labels = zip(*test_data)\n",
        "    reviews = (tokenizer(review) for review in reviews)\n",
        "    true_positives = 0\n",
        "    false_positives = 1e-8  # Can't be 0 because of presence in denominator\n",
        "    true_negatives = 0\n",
        "    false_negatives = 1e-8\n",
        "    for i, review in enumerate(textcat.pipe(reviews)):\n",
        "        true_label = labels[i]\n",
        "        for predicted_label, score in review.cats.items():\n",
        "            # Every cats dictionary includes both labels. You can get all\n",
        "            # the info you need with just the pos label.\n",
        "            if (\n",
        "                predicted_label == \"neg\"\n",
        "            ):\n",
        "                continue\n",
        "            if score >= 0.5 and true_label[\"pos\"]:\n",
        "                true_positives += 1\n",
        "            elif score >= 0.5 and true_label[\"neg\"]:\n",
        "                false_positives += 1\n",
        "            elif score < 0.5 and true_label[\"neg\"]:\n",
        "                true_negatives += 1\n",
        "            elif score < 0.5 and true_label[\"pos\"]:\n",
        "                false_negatives += 1\n",
        "    precision = true_positives / (true_positives + false_positives)\n",
        "    recall = true_positives / (true_positives + false_negatives)\n",
        "\n",
        "    if precision + recall == 0:\n",
        "        f_score = 0\n",
        "    else:\n",
        "        f_score = 2 * (precision * recall) / (precision + recall)\n",
        "    return {\"precision\": precision, \"recall\": recall, \"f-score\": f_score}"
      ],
      "metadata": {
        "id": "0XB7D6ChKLWW"
      },
      "execution_count": 9,
      "outputs": []
    },
    {
      "cell_type": "code",
      "source": [
        "def train_model(\n",
        "    training_data: list,\n",
        "    test_data: list,\n",
        "    iterations: int = 20\n",
        ") -> None:\n",
        "    # Build pipeline\n",
        "    nlp = spacy.load(\"en_core_web_sm\")\n",
        "    if \"textcat\" not in nlp.pipe_names:\n",
        "        textcat = nlp.create_pipe(\n",
        "            \"textcat\", config={\"architecture\": \"simple_cnn\"}\n",
        "        )\n",
        "        nlp.add_pipe(textcat, last=True)\n",
        "    else:\n",
        "        textcat = nlp.get_pipe(\"textcat\")\n",
        "\n",
        "    textcat.add_label(\"pos\")\n",
        "    textcat.add_label(\"neg\")\n",
        "\n",
        "    # Train only textcat\n",
        "    training_excluded_pipes = [\n",
        "        pipe for pipe in nlp.pipe_names if pipe != \"textcat\"\n",
        "    ]\n",
        "    with nlp.disable_pipes(training_excluded_pipes):\n",
        "        optimizer = nlp.begin_training()\n",
        "        # Training loop\n",
        "        print(\"Beginning training\")\n",
        "        print(\"Loss\\tPrecision\\tRecall\\tF-score\")\n",
        "        batch_sizes = compounding(\n",
        "            4.0, 32.0, 1.001\n",
        "        )  # A generator that yields infinite series of input numbers\n",
        "        for i in range(iterations):\n",
        "            print(f\"Training iteration {i}\")\n",
        "            loss = {}\n",
        "            random.shuffle(training_data)\n",
        "            batches = minibatch(training_data, size=batch_sizes)\n",
        "            for batch in batches:\n",
        "                text, labels = zip(*batch)\n",
        "                nlp.update(text, labels, drop=0.2, sgd=optimizer, losses=loss)\n",
        "            with textcat.model.use_params(optimizer.averages):\n",
        "                evaluation_results = evaluate_model(\n",
        "                    tokenizer=nlp.tokenizer,\n",
        "                    textcat=textcat,\n",
        "                    test_data=test_data\n",
        "                )\n",
        "                print(\n",
        "                    f\"{loss['textcat']}\\t{evaluation_results['precision']}\"\n",
        "                    f\"\\t{evaluation_results['recall']}\"\n",
        "                    f\"\\t{evaluation_results['f-score']}\"\n",
        "                )\n",
        "\n",
        "    # Save model\n",
        "    with nlp.use_params(optimizer.averages):\n",
        "        nlp.to_disk(\"model_artifacts\")"
      ],
      "metadata": {
        "id": "cAG3lsHSKy4J"
      },
      "execution_count": 13,
      "outputs": []
    },
    {
      "cell_type": "code",
      "source": [
        "TEST_REVIEW = \"\"\"\n",
        "Transcendently beautiful in moments outside the office, it seems almost\n",
        "sitcom-like in those scenes. When Toni Colette walks out and ponders\n",
        "life silently, it's gorgeous.<br /><br />The movie doesn't seem to decide\n",
        "whether it's slapstick, farce, magical realism, or drama, but the best of it\n",
        "doesn't matter. (The worst is sort of tedious - like Office Space with less humor.)\n",
        "\"\"\""
      ],
      "metadata": {
        "id": "UIooM39dLBVM"
      },
      "execution_count": 14,
      "outputs": []
    },
    {
      "cell_type": "code",
      "source": [
        "def test_model(input_data: str = TEST_REVIEW):\n",
        "    #  Load saved trained model\n",
        "    loaded_model = spacy.load(\"model_artifacts\")\n",
        "    # Generate prediction\n",
        "    parsed_text = loaded_model(input_data)\n",
        "    # Determine prediction to return\n",
        "    if parsed_text.cats[\"pos\"] > parsed_text.cats[\"neg\"]:\n",
        "        prediction = \"Positive\"\n",
        "        score = parsed_text.cats[\"pos\"]\n",
        "    else:\n",
        "        prediction = \"Negative\"\n",
        "        score = parsed_text.cats[\"neg\"]\n",
        "    print(\n",
        "        f\"Review text: {input_data}\\nPredicted sentiment: {prediction}\"\n",
        "        f\"\\tScore: {score}\"\n",
        "    )"
      ],
      "metadata": {
        "id": "CLK-XUJoLMdt"
      },
      "execution_count": 23,
      "outputs": []
    },
    {
      "cell_type": "code",
      "source": [
        "if __name__ == \"__main__\":\n",
        "    print(\"Testing model\")\n",
        "    test_model()"
      ],
      "metadata": {
        "colab": {
          "base_uri": "https://localhost:8080/",
          "height": 349
        },
        "id": "q4ymz0KtLX6y",
        "outputId": "77a07659-9a60-4dec-f31b-413c8436c199"
      },
      "execution_count": 24,
      "outputs": [
        {
          "output_type": "stream",
          "name": "stdout",
          "text": [
            "Testing model\n"
          ]
        },
        {
          "output_type": "error",
          "ename": "KeyError",
          "evalue": "ignored",
          "traceback": [
            "\u001b[0;31m---------------------------------------------------------------------------\u001b[0m",
            "\u001b[0;31mKeyError\u001b[0m                                  Traceback (most recent call last)",
            "\u001b[0;32m<ipython-input-24-4f542adceae9>\u001b[0m in \u001b[0;36m<cell line: 1>\u001b[0;34m()\u001b[0m\n\u001b[1;32m      1\u001b[0m \u001b[0;32mif\u001b[0m \u001b[0m__name__\u001b[0m \u001b[0;34m==\u001b[0m \u001b[0;34m\"__main__\"\u001b[0m\u001b[0;34m:\u001b[0m\u001b[0;34m\u001b[0m\u001b[0;34m\u001b[0m\u001b[0m\n\u001b[1;32m      2\u001b[0m     \u001b[0mprint\u001b[0m\u001b[0;34m(\u001b[0m\u001b[0;34m\"Testing model\"\u001b[0m\u001b[0;34m)\u001b[0m\u001b[0;34m\u001b[0m\u001b[0;34m\u001b[0m\u001b[0m\n\u001b[0;32m----> 3\u001b[0;31m     \u001b[0mtest_model\u001b[0m\u001b[0;34m(\u001b[0m\u001b[0;34m)\u001b[0m\u001b[0;34m\u001b[0m\u001b[0;34m\u001b[0m\u001b[0m\n\u001b[0m",
            "\u001b[0;32m<ipython-input-23-50ca7a4373bb>\u001b[0m in \u001b[0;36mtest_model\u001b[0;34m(input_data)\u001b[0m\n\u001b[1;32m      5\u001b[0m     \u001b[0mparsed_text\u001b[0m \u001b[0;34m=\u001b[0m \u001b[0mloaded_model\u001b[0m\u001b[0;34m(\u001b[0m\u001b[0minput_data\u001b[0m\u001b[0;34m)\u001b[0m\u001b[0;34m\u001b[0m\u001b[0;34m\u001b[0m\u001b[0m\n\u001b[1;32m      6\u001b[0m     \u001b[0;31m# Determine prediction to return\u001b[0m\u001b[0;34m\u001b[0m\u001b[0;34m\u001b[0m\u001b[0m\n\u001b[0;32m----> 7\u001b[0;31m     \u001b[0;32mif\u001b[0m \u001b[0mparsed_text\u001b[0m\u001b[0;34m.\u001b[0m\u001b[0mcats\u001b[0m\u001b[0;34m[\u001b[0m\u001b[0;34m\"pos\"\u001b[0m\u001b[0;34m]\u001b[0m \u001b[0;34m>\u001b[0m \u001b[0mparsed_text\u001b[0m\u001b[0;34m.\u001b[0m\u001b[0mcats\u001b[0m\u001b[0;34m[\u001b[0m\u001b[0;34m\"neg\"\u001b[0m\u001b[0;34m]\u001b[0m\u001b[0;34m:\u001b[0m\u001b[0;34m\u001b[0m\u001b[0;34m\u001b[0m\u001b[0m\n\u001b[0m\u001b[1;32m      8\u001b[0m         \u001b[0mprediction\u001b[0m \u001b[0;34m=\u001b[0m \u001b[0;34m\"Positive\"\u001b[0m\u001b[0;34m\u001b[0m\u001b[0;34m\u001b[0m\u001b[0m\n\u001b[1;32m      9\u001b[0m         \u001b[0mscore\u001b[0m \u001b[0;34m=\u001b[0m \u001b[0mparsed_text\u001b[0m\u001b[0;34m.\u001b[0m\u001b[0mcats\u001b[0m\u001b[0;34m[\u001b[0m\u001b[0;34m\"pos\"\u001b[0m\u001b[0;34m]\u001b[0m\u001b[0;34m\u001b[0m\u001b[0;34m\u001b[0m\u001b[0m\n",
            "\u001b[0;31mKeyError\u001b[0m: 'pos'"
          ]
        }
      ]
    }
  ]
}